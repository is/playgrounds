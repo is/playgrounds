{
 "cells": [
  {
   "cell_type": "code",
   "execution_count": 14,
   "id": "f763faec-0016-4c02-ba88-3ad761687a50",
   "metadata": {},
   "outputs": [],
   "source": [
    "import cv2"
   ]
  },
  {
   "cell_type": "code",
   "execution_count": 29,
   "id": "bcbeb232-23cc-4633-b074-ba886f02d815",
   "metadata": {},
   "outputs": [],
   "source": [
    "src = cv2.imread(\"20230311-20230311_152316__00232__A7R4A.jpg\")"
   ]
  },
  {
   "cell_type": "code",
   "execution_count": 18,
   "id": "4f0c19f2-5ea2-4408-99e3-7fa278733201",
   "metadata": {},
   "outputs": [],
   "source": [
    "def split(height, width, nparts, ratio):\n",
    "    sheight = height\n",
    "    swidth = int(sheight * ratio)\n",
    "    off = int((width - swidth) / (nparts - 1))\n",
    "    return [ (n * off, n * off + swidth) for n in range(nparts) ]\n",
    "\n",
    "N = 9\n",
    "RATIO = 4 / 3\n",
    "H0 = src.shape[0]\n",
    "W0 = src.shape[1]\n",
    "RS = split(src.shape[0], src.shape[1], N, RATIO)\n",
    "for i in range(N):\n",
    "    sub_img = src[0:H0, RS[i][0]:RS[i][1]]\n",
    "    cv2.imwrite(f\"img_{i:02d}.jpg\", sub_img, [cv2.IMWRITE_JPEG_QUALITY, 100])\n",
    "    "
   ]
  },
  {
   "cell_type": "code",
   "execution_count": 34,
   "id": "bd03ed96-cf7e-4941-a26c-29d5f23847a9",
   "metadata": {},
   "outputs": [
    {
     "name": "stdout",
     "output_type": "stream",
     "text": [
      "2115, 1571\n"
     ]
    }
   ],
   "source": [
    "def split_2(src, nparts):\n",
    "    height = src.shape[0]\n",
    "    width = src.shape[1]\n",
    "    w = int(width / nparts)\n",
    "    bw0 = int((w / nparts))\n",
    "    bw1 = int(bw0 / 2)\n",
    "    bsize = 10\n",
    "    bsize2 = bw1 - bsize * 2\n",
    "    print(f\"{height}, {w}\")\n",
    "    for i in range(nparts):\n",
    "        sub_img = src[0:height, w * i:w * i + w]\n",
    "        sub_img = sub_img.copy()\n",
    "        overlay = sub_img.copy()\n",
    "        bbh0 = height - bsize * 2\n",
    "        bbw0 = bw0 * i + bw1\n",
    "\n",
    "        alpha = 0.5\n",
    "        cv2.rectangle(overlay, (bbw0 - bsize2, bbh0 - bsize), (bbw0 + bsize2, bbh0 + bsize), (200, 200, 200), -1) \n",
    "        sub_img = cv2.addWeighted(overlay, alpha, sub_img, 1 - alpha, 0)\n",
    "        cv2.imwrite(f\"img_{i:02d}.jpg\", sub_img, [cv2.IMWRITE_JPEG_QUALITY, 100])\n",
    "\n",
    "split_2(src, 6)"
   ]
  },
  {
   "cell_type": "code",
   "execution_count": null,
   "id": "2a2e5021-f31d-441a-a49c-a65710e827de",
   "metadata": {},
   "outputs": [],
   "source": []
  }
 ],
 "metadata": {
  "kernelspec": {
   "display_name": "Python 3 (ipykernel)",
   "language": "python",
   "name": "python3"
  },
  "language_info": {
   "codemirror_mode": {
    "name": "ipython",
    "version": 3
   },
   "file_extension": ".py",
   "mimetype": "text/x-python",
   "name": "python",
   "nbconvert_exporter": "python",
   "pygments_lexer": "ipython3",
   "version": "3.10.9"
  }
 },
 "nbformat": 4,
 "nbformat_minor": 5
}
